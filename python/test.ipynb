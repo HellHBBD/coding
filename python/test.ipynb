{
 "cells": [
  {
   "cell_type": "markdown",
   "id": "89361e00",
   "metadata": {},
   "source": [
    "#標題\n",
    "# h1\n",
    "## h2\n",
    "### h3\n",
    "#### h4\n",
    "##### h5\n",
    "內文\n",
    "\n",
    "#字體變化\n",
    "*斜體*\n",
    "_這也是斜體_\n",
    "**粗體**\n",
    "__這也是粗體__\n",
    "***又粗又斜***\n",
    "___一樣又粗又斜___\n",
    "~~刪除線~~\n",
    "\n",
    "#清單\n",
    "* 無序清單\n",
    "\t* 縮進產生巢狀結構\n",
    "- 這也是無序清單\n",
    "- [ ] checkbox\n",
    "- [x] 完成\n",
    "1. 有序清單\n",
    "2. 也可以生成有序巢狀結構\n",
    "\t1. \n",
    "\n",
    "#引用 \n",
    ">寥 落 古 行 宮，\n",
    ">宮 花 寂 寞 紅。\n",
    ">白 頭 宮 女 在，\n",
    ">閒 坐 說 玄 宗 。\n",
    "\n",
    "```c\n",
    "(預設為bash)\n",
    "#include <stdio.h>\n",
    "\n",
    "int main(){\n",
    "\tprintf(\"hello world\");\n",
    "\treturn 0;\n",
    "}\n",
    "```\n",
    "\n",
    "#分隔線\n",
    "***\n",
    "--- \n",
    "\n",
    "#表格\n",
    "\n",
    "|標頭1|標頭2|標頭3|\n",
    "| - |:-:| -:|\n",
    "|這列沒什麼意義|單純用來拉長表格而已|呵呵不知道打什麼|\n",
    "|預設靠左|置中|靠右|\n",
    "\n",
    "#超連結\n",
    "[Google](https://www.google.com/)\n",
    "[Google](https://www.google.com/ \"就google啊不然呢\")"
   ]
  },
  {
   "cell_type": "code",
   "execution_count": 1,
   "id": "22e7460c",
   "metadata": {},
   "outputs": [
    {
     "name": "stdout",
     "output_type": "stream",
     "text": [
      "hello world\n"
     ]
    }
   ],
   "source": [
    "print('hello world')"
   ]
  }
 ],
 "metadata": {
  "kernelspec": {
   "display_name": "Python 3 (ipykernel)",
   "language": "python",
   "name": "python3"
  },
  "language_info": {
   "codemirror_mode": {
    "name": "ipython",
    "version": 3
   },
   "file_extension": ".py",
   "mimetype": "text/x-python",
   "name": "python",
   "nbconvert_exporter": "python",
   "pygments_lexer": "ipython3",
   "version": "3.11.3"
  }
 },
 "nbformat": 4,
 "nbformat_minor": 5
}
