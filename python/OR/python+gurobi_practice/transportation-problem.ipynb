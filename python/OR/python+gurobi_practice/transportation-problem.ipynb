{
 "cells": [
  {
   "cell_type": "code",
   "execution_count": 1,
   "metadata": {},
   "outputs": [],
   "source": [
    "from gurobipy import*\n",
    "\n",
    "demand={1:35,2:25,3:30,4:15,5:30,6:25}\n",
    "supply={1:40,2:35,3:55,4:50,5:45}\n",
    "avai={\n",
    "    (2,1):15,\n",
    "    (3,1):10,\n",
    "    (1,2):10,\n",
    "    (2,2):5,\n",
    "    (3,2):14,\n",
    "    (4,3):13,\n",
    "    (5,3):7,\n",
    "    (1,4):8,\n",
    "    (2,4):14,\n",
    "    (3,4):5,\n",
    "    (1,5):16,\n",
    "    (3,6):10,\n",
    "    (5,6):6,\n",
    "}\n",
    "\n",
    "m=Model(\"transportation problem\")\n",
    "\n",
    "x={}\n",
    "for i,j in avai:\n",
    "    x[i,j]=m.addVar(vtype='C',name=\"x(%s,%s):\"%(i,j))\n",
    "\n",
    "m.update()"
   ]
  },
  {
   "cell_type": "code",
   "execution_count": 2,
   "metadata": {},
   "outputs": [],
   "source": [
    "for s in supply:    \n",
    "    m.addConstr(quicksum(x[i,j] for i,j in avai if i==s)<=supply[s])\n",
    "    \n",
    "for d in demand:\n",
    "    m.addConstr(quicksum(x[i,j] for i,j in avai if j==d)>=demand[d])"
   ]
  },
  {
   "cell_type": "code",
   "execution_count": 3,
   "metadata": {},
   "outputs": [
    {
     "name": "stdout",
     "output_type": "stream",
     "text": [
      "Optimize a model with 11 rows, 13 columns and 26 nonzeros\n",
      "Coefficient statistics:\n",
      "  Matrix range     [1e+00, 1e+00]\n",
      "  Objective range  [5e+00, 2e+01]\n",
      "  Bounds range     [0e+00, 0e+00]\n",
      "  RHS range        [2e+01, 6e+01]\n",
      "Presolve removed 2 rows and 1 columns\n",
      "Presolve time: 0.01s\n",
      "Presolved: 9 rows, 12 columns, 23 nonzeros\n",
      "\n",
      "Iteration    Objective       Primal Inf.    Dual Inf.      Time\n",
      "       0    4.8000000e+02   3.250000e+01   0.000000e+00      0s\n",
      "       7    1.4400000e+03   0.000000e+00   0.000000e+00      0s\n",
      "\n",
      "Solved in 7 iterations and 0.03 seconds\n",
      "Optimal objective  1.440000000e+03\n",
      "Warning: variable name \"x(2,1):\" has a colon\n",
      "Warning: to let Gurobi read it back, use rlp format\n",
      "ans 1440.0\n",
      "x(3,1): 35.0\n",
      "x(2,2): 25.0\n",
      "x(4,3): 5.0\n",
      "x(5,3): 25.0\n",
      "x(3,4): 15.0\n",
      "x(1,5): 30.0\n",
      "x(3,6): 5.0\n",
      "x(5,6): 20.0\n"
     ]
    }
   ],
   "source": [
    "obj=quicksum(x[i,j]*avai[i,j] for i,j in avai)\n",
    "m.setObjective(obj,GRB.MINIMIZE)\n",
    "m.optimize()\n",
    "\n",
    "m.write(\"transportation.lp\")\n",
    "\n",
    "print(\"ans\",m.ObjVal)\n",
    "EPS=1.e-6\n",
    "for i,j in avai:\n",
    "    if x[i,j].X>EPS:\n",
    "        print(x[i,j].Varname,x[i,j].X)"
   ]
  },
  {
   "cell_type": "code",
   "execution_count": null,
   "metadata": {},
   "outputs": [],
   "source": []
  }
 ],
 "metadata": {
  "kernelspec": {
   "display_name": "Python 3",
   "language": "python",
   "name": "python3"
  },
  "language_info": {
   "codemirror_mode": {
    "name": "ipython",
    "version": 3
   },
   "file_extension": ".py",
   "mimetype": "text/x-python",
   "name": "python",
   "nbconvert_exporter": "python",
   "pygments_lexer": "ipython3",
   "version": "3.6.4"
  }
 },
 "nbformat": 4,
 "nbformat_minor": 4
}
