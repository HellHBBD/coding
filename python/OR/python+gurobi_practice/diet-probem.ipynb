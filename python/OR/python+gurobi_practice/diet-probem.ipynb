{
 "cells": [
  {
   "cell_type": "code",
   "execution_count": 4,
   "metadata": {},
   "outputs": [],
   "source": [
    "from gurobipy import*\n",
    "\n",
    "cost={1:0.18,2:0.23,3:0.05}\n",
    "a={(1,1):107, (1,2):500, (1,3):0,\n",
    "   (2,1):72, (2,2):121, (2,3):65}\n",
    "Nmin={1:5000,2:2000}\n",
    "Nmax={1:50000,2:2250}\n",
    "Fmin=0\n",
    "Fmax=10\n",
    "\n",
    "m=Model(\"diet problem\")\n",
    "\n",
    "x={}\n",
    "for i in cost:\n",
    "    x[i]=m.addVar(vtype='C',name=\"x(%s)\"%i)\n",
    "m.update()"
   ]
  },
  {
   "cell_type": "code",
   "execution_count": 5,
   "metadata": {},
   "outputs": [],
   "source": [
    "for j in Nmax:\n",
    "    m.addConstr(quicksum(x[i]*a[j,i] for i in cost)<=Nmax[j])\n",
    "for j in Nmin:\n",
    "    m.addConstr(quicksum(x[i]*a[j,i] for i in cost)>=Nmin[j])\n",
    "                       \n",
    "for i in cost:\n",
    "    m.addConstr(x[i]<=Fmax)\n",
    "    m.addConstr(x[i]>=Fmin)\n"
   ]
  },
  {
   "cell_type": "code",
   "execution_count": 6,
   "metadata": {},
   "outputs": [
    {
     "name": "stdout",
     "output_type": "stream",
     "text": [
      "Optimize a model with 10 rows, 3 columns and 16 nonzeros\n",
      "Coefficient statistics:\n",
      "  Matrix range     [1e+00, 5e+02]\n",
      "  Objective range  [5e-02, 2e-01]\n",
      "  Bounds range     [0e+00, 0e+00]\n",
      "  RHS range        [1e+01, 5e+04]\n",
      "Presolve removed 8 rows and 0 columns\n",
      "Presolve time: 0.00s\n",
      "Presolved: 2 rows, 3 columns, 5 nonzeros\n",
      "\n",
      "Iteration    Objective       Primal Inf.    Dual Inf.      Time\n",
      "       0    2.3537423e+00   3.027022e+01   0.000000e+00      0s\n",
      "       1    3.1500000e+00   0.000000e+00   0.000000e+00      0s\n",
      "\n",
      "Solved in 1 iterations and 0.01 seconds\n",
      "Optimal objective  3.150000000e+00\n",
      "ans 3.1500000000000004\n",
      "x(1) 1.9444444444444444\n",
      "x(2) 10.0\n",
      "x(3) 10.0\n"
     ]
    }
   ],
   "source": [
    "m.setObjective(quicksum(x[i]*cost[i] for i in cost),GRB.MINIMIZE)\n",
    "m.optimize()\n",
    "\n",
    "m.write(\"diet problem.lp\")\n",
    "\n",
    "print(\"ans: \",m.ObjVal)\n",
    "EPS=1.e-6\n",
    "for i in cost:\n",
    "    if x[i].X>EPS:\n",
    "        print(x[i].Varname,x[i].X)"
   ]
  },
  {
   "cell_type": "code",
   "execution_count": null,
   "metadata": {},
   "outputs": [],
   "source": []
  }
 ],
 "metadata": {
  "kernelspec": {
   "display_name": "Python 3",
   "language": "python",
   "name": "python3"
  },
  "language_info": {
   "codemirror_mode": {
    "name": "ipython",
    "version": 3
   },
   "file_extension": ".py",
   "mimetype": "text/x-python",
   "name": "python",
   "nbconvert_exporter": "python",
   "pygments_lexer": "ipython3",
   "version": "3.6.4"
  }
 },
 "nbformat": 4,
 "nbformat_minor": 4
}
