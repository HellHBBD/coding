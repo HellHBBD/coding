{
 "cells": [
  {
   "cell_type": "code",
   "execution_count": 14,
   "metadata": {},
   "outputs": [],
   "source": [
    "from gurobipy import*\n",
    "\n",
    "v={1:15,2:17,3:24,4:30}\n",
    "\n",
    "a={(1,1):3, (1,2):5, (1,3):7, (1,4):9,\n",
    "   (2,1):3000, (2,2):3400, (2,3):5700, (2,4):7800}\n",
    "\n",
    "b={1:22,2:15000}\n",
    "\n",
    "m=Model('diet')\n",
    "\n",
    "x={}\n",
    "for i in v:\n",
    "    x[i]=m.addVar(vtype='B',name=\"x(%s)\"%i)\n",
    "m.update()"
   ]
  },
  {
   "cell_type": "code",
   "execution_count": 15,
   "metadata": {},
   "outputs": [],
   "source": [
    "for i in b:\n",
    "    m.addConstr(quicksum(x[j]*a[i,j] for j in v)<= b[i])"
   ]
  },
  {
   "cell_type": "code",
   "execution_count": 17,
   "metadata": {},
   "outputs": [
    {
     "name": "stdout",
     "output_type": "stream",
     "text": [
      "Optimize a model with 2 rows, 4 columns and 8 nonzeros\n",
      "Variable types: 0 continuous, 4 integer (4 binary)\n",
      "Coefficient statistics:\n",
      "  Matrix range     [3e+00, 8e+03]\n",
      "  Objective range  [2e+01, 3e+01]\n",
      "  Bounds range     [1e+00, 1e+00]\n",
      "  RHS range        [2e+01, 2e+04]\n",
      "\n",
      "Loaded MIP start with objective 62\n",
      "\n",
      "Presolve removed 2 rows and 4 columns\n",
      "Presolve time: 0.00s\n",
      "Presolve: All rows and columns removed\n",
      "\n",
      "Explored 0 nodes (0 simplex iterations) in 0.01 seconds\n",
      "Thread count was 1 (of 4 available processors)\n",
      "\n",
      "Solution count 1: 62 \n",
      "\n",
      "Optimal solution found (tolerance 1.00e-04)\n",
      "Best objective 6.200000000000e+01, best bound 6.200000000000e+01, gap 0.0000%\n",
      "ans:  62.0\n",
      "x(1) 1.0\n",
      "x(2) 1.0\n",
      "x(4) 1.0\n"
     ]
    }
   ],
   "source": [
    "m.setObjective(quicksum(x[i]*v[i] for i in v),GRB.MAXIMIZE)\n",
    "m.optimize()\n",
    "\n",
    "m.write(\"knapsack.lp\")\n",
    "\n",
    "print(\"ans: \",m.ObjVal)\n",
    "EPS=1.e-6\n",
    "for i in v:\n",
    "    if x[i].X>EPS:\n",
    "        print(x[i].Varname,x[i].X)"
   ]
  },
  {
   "cell_type": "code",
   "execution_count": null,
   "metadata": {},
   "outputs": [],
   "source": []
  }
 ],
 "metadata": {
  "kernelspec": {
   "display_name": "Python 3",
   "language": "python",
   "name": "python3"
  },
  "language_info": {
   "codemirror_mode": {
    "name": "ipython",
    "version": 3
   },
   "file_extension": ".py",
   "mimetype": "text/x-python",
   "name": "python",
   "nbconvert_exporter": "python",
   "pygments_lexer": "ipython3",
   "version": "3.6.4"
  }
 },
 "nbformat": 4,
 "nbformat_minor": 4
}
